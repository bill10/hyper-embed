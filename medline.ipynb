{
 "cells": [
  {
   "cell_type": "code",
   "execution_count": 1,
   "id": "24f9be74-3322-4129-b15a-598f4dfa54f3",
   "metadata": {},
   "outputs": [],
   "source": [
    "from hyperEmbed import DynamicHypergraphDataset, DynamicHyperEmbed"
   ]
  },
  {
   "cell_type": "code",
   "execution_count": 5,
   "id": "5526a17b-eb4c-469d-b2fc-bbc91b669db5",
   "metadata": {},
   "outputs": [],
   "source": [
    "config = {}\n",
    "config[\"embedding_dim\"] = 20\n",
    "config[\"time_variance\"] = 1.0\n",
    "config[\"batch_size\"] = 1000\n",
    "config[\"epochs\"] = 50\n",
    "config[\"learning_rate\"] = 0.1"
   ]
  },
  {
   "cell_type": "code",
   "execution_count": 3,
   "id": "3f4e0596-040f-4f41-af35-9988c3446683",
   "metadata": {},
   "outputs": [
    {
     "data": {
      "application/vnd.jupyter.widget-view+json": {
       "model_id": "dc530896672a4e2dae492b65c6d075b1",
       "version_major": 2,
       "version_minor": 0
      },
      "text/plain": [
       "  0%|          | 0/62 [00:00<?, ?it/s]"
      ]
     },
     "metadata": {},
     "output_type": "display_data"
    },
    {
     "name": "stdout",
     "output_type": "stream",
     "text": [
      "CPU times: user 41.4 s, sys: 3.78 s, total: 45.2 s\n",
      "Wall time: 43 s\n"
     ]
    }
   ],
   "source": [
    "%%time\n",
    "dataset = DynamicHypergraphDataset(\"./data/medline\")"
   ]
  },
  {
   "cell_type": "code",
   "execution_count": 4,
   "id": "5a67cf2a-32e1-4542-85f9-260c1ef384eb",
   "metadata": {},
   "outputs": [],
   "source": [
    "hyper_embed = DynamicHyperEmbed(\n",
    "    num_nodes=dataset.num_nodes, embedding_dim=config[\"embedding_dim\"], \n",
    "    time_keys=dataset.time_keys, time_variance=config[\"time_variance\"])"
   ]
  },
  {
   "cell_type": "code",
   "execution_count": null,
   "id": "bc2348e5-9b88-4c19-bfeb-222983ae452a",
   "metadata": {},
   "outputs": [],
   "source": [
    "hyper_embed.train(\n",
    "    dataset = dataset,\n",
    "    num_epochs = config[\"epochs\"],\n",
    "    batch_size = config[\"batch_size\"],\n",
    "    shuffle = True,\n",
    "    lr = config[\"learning_rate\"])"
   ]
  },
  {
   "cell_type": "code",
   "execution_count": null,
   "id": "ee578e71-33f5-4ec8-9749-46a08f5c81bb",
   "metadata": {},
   "outputs": [],
   "source": [
    "hyper_embed.save(\"saved_models/2023-03-24/\")"
   ]
  },
  {
   "cell_type": "code",
   "execution_count": 1,
   "id": "e7d163b3-8a73-44ff-b97d-b6b6d28e491c",
   "metadata": {},
   "outputs": [],
   "source": [
    "from hyperEmbed import DynamicHypergraphDataset, DynamicHyperEmbed"
   ]
  },
  {
   "cell_type": "code",
   "execution_count": 2,
   "id": "f53743ac-005b-4417-937e-942d1dfeb55b",
   "metadata": {},
   "outputs": [
    {
     "data": {
      "application/vnd.jupyter.widget-view+json": {
       "model_id": "d38c1d43217644bebd3bc384641ceb2e",
       "version_major": 2,
       "version_minor": 0
      },
      "text/plain": [
       "  0%|          | 0/62 [00:00<?, ?it/s]"
      ]
     },
     "metadata": {},
     "output_type": "display_data"
    },
    {
     "name": "stdout",
     "output_type": "stream",
     "text": [
      "CPU times: user 37 s, sys: 3.88 s, total: 40.9 s\n",
      "Wall time: 38.5 s\n"
     ]
    }
   ],
   "source": [
    "%%time\n",
    "dataset = DynamicHypergraphDataset(\"./data/medline\", aggregate=False)"
   ]
  },
  {
   "cell_type": "code",
   "execution_count": 6,
   "id": "be3754de-2747-4958-92c9-989f106a34bc",
   "metadata": {},
   "outputs": [],
   "source": [
    "import torch\n",
    "\n",
    "model_config = torch.load(\"saved_models/2023-03-24/model_config.pkl\")\n",
    "\n",
    "hyper_embed = DynamicHyperEmbed(\n",
    "    num_nodes=model_config[\"num_nodes\"], embedding_dim=model_config[\"embedding_dim\"], \n",
    "    time_keys=model_config[\"time_keys\"], time_variance=model_config[\"time_variance\"])\n",
    "\n",
    "hyper_embed.load(\"saved_models/2023-03-24/\")"
   ]
  },
  {
   "cell_type": "code",
   "execution_count": 15,
   "id": "f1f67c8a-8223-4351-bf4c-f2d552180938",
   "metadata": {},
   "outputs": [],
   "source": [
    "from torch.utils.data import DataLoader\n",
    "\n",
    "test_dataloader = DataLoader(\n",
    "    dataset.hypergraphs[1991],\n",
    "    batch_size=100,\n",
    "    shuffle=False,\n",
    "    collate_fn=dataset.hypergraphs[1991].get_collate_fn(label_tensor=False),\n",
    ")"
   ]
  },
  {
   "cell_type": "code",
   "execution_count": 23,
   "id": "be280321-b330-4946-b78c-a3928749c367",
   "metadata": {},
   "outputs": [
    {
     "data": {
      "application/vnd.jupyter.widget-view+json": {
       "model_id": "a13ac83e3bcf463d95c25774aa00640c",
       "version_major": 2,
       "version_minor": 0
      },
      "text/plain": [
       "  0%|          | 0/2971 [00:00<?, ?it/s]"
      ]
     },
     "metadata": {},
     "output_type": "display_data"
    }
   ],
   "source": [
    "import torch\n",
    "from tqdm.auto import tqdm\n",
    "\n",
    "novelties = []\n",
    "pmids = []\n",
    "with torch.no_grad():\n",
    "    for batch in tqdm(test_dataloader):\n",
    "        novelties.extend(hyper_embed.models[1990].get_novelty(batch[0], batch[2]).tolist())\n",
    "        pmids.extend(batch[1])"
   ]
  },
  {
   "cell_type": "code",
   "execution_count": 26,
   "id": "6067383c-0530-4878-af74-1da7dc2b9959",
   "metadata": {},
   "outputs": [
    {
     "name": "stderr",
     "output_type": "stream",
     "text": [
      "<timed exec>:2: DeprecationWarning: Please use `csc_matrix` from the `scipy.sparse` namespace, the `scipy.sparse.csc` namespace is deprecated.\n"
     ]
    },
    {
     "name": "stdout",
     "output_type": "stream",
     "text": [
      "CPU times: user 11.2 s, sys: 7.62 s, total: 18.8 s\n",
      "Wall time: 20.5 s\n"
     ]
    }
   ],
   "source": [
    "%%time\n",
    "import pickle\n",
    "citations=pickle.load(open('../Hypergraph Novelty/Data/citations.pkl','rb'),encoding='latin1').tocsr()"
   ]
  },
  {
   "cell_type": "code",
   "execution_count": 33,
   "id": "d2b2e5d3-6d31-4c11-8a30-6260dea1075d",
   "metadata": {},
   "outputs": [],
   "source": [
    "import pandas as pd\n",
    "import numpy as np\n",
    "\n",
    "df = pd.DataFrame({\n",
    "    \"pmid\": pd.to_numeric(pmids), \"novelty\": novelties\n",
    "})\n",
    "\n",
    "c=citations[df[\"pmid\"],:].sum(axis=1).A.ravel()\n",
    "df['cites']=c\n",
    "df['hit']=c>np.percentile(c,90)"
   ]
  },
  {
   "cell_type": "code",
   "execution_count": 45,
   "id": "842db18e-c3c5-4c3f-8a5d-841fb9b4c84c",
   "metadata": {},
   "outputs": [
    {
     "data": {
      "text/plain": [
       "[<matplotlib.lines.Line2D at 0x7f75aa511060>]"
      ]
     },
     "execution_count": 45,
     "metadata": {},
     "output_type": "execute_result"
    },
    {
     "data": {
      "image/png": "[encoded data removed]",
      "text/plain": [
       "<Figure size 640x480 with 1 Axes>"
      ]
     },
     "metadata": {},
     "output_type": "display_data"
    }
   ],
   "source": [
    "import matplotlib.pyplot as plt\n",
    "\n",
    "percentitles=np.linspace(0,100,30)\n",
    "x=-np.log(df.novelty)\n",
    "xbins,indx=np.unique(np.percentile(x, percentitles), return_index=True)\n",
    "H,_=np.histogram(x,xbins)\n",
    "H2,_=np.histogram(x[df.hit],xbins)\n",
    "y=H2/H\n",
    "plt.plot( (percentitles[indx[1:]]+percentitles[indx[:-1]])/2 ,y, '.');"
   ]
  },
  {
   "cell_type": "code",
   "execution_count": null,
   "id": "c093b010-f37e-4a93-9440-b38805863127",
   "metadata": {},
   "outputs": [],
   "source": []
  }
 ],
 "metadata": {
  "kernelspec": {
   "display_name": "PyTorch",
   "language": "python",
   "name": "pytorch"
  },
  "language_info": {
   "codemirror_mode": {
    "name": "ipython",
    "version": 3
   },
   "file_extension": ".py",
   "mimetype": "text/x-python",
   "name": "python",
   "nbconvert_exporter": "python",
   "pygments_lexer": "ipython3",
   "version": "3.10.8"
  }
 },
 "nbformat": 4,
 "nbformat_minor": 5
}
